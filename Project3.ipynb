{
 "cells": [
  {
   "cell_type": "code",
   "execution_count": 1,
   "id": "cfdc18e2",
   "metadata": {},
   "outputs": [],
   "source": [
    "import pandas as pd\n",
    "import sqlite3\n",
    "\n",
    "#connecting to the Chinook database\n",
    "conn = sqlite3.connect(\"Chinook_Sqlite.sqlite\")\n"
   ]
  },
  {
   "cell_type": "code",
   "execution_count": 8,
   "id": "c03522dd",
   "metadata": {},
   "outputs": [
    {
     "name": "stdout",
     "output_type": "stream",
     "text": [
      "        LastName FirstName                                               Name  \\\n",
      "0        Almeida   Roberto                            Right Next Door to Hell   \n",
      "1        Almeida   Roberto                                     In The Evening   \n",
      "2        Almeida   Roberto                                   Fool In The Rain   \n",
      "3        Almeida   Roberto  Saudade Dos Aviões Da Panair (Conversando No Bar)   \n",
      "4        Almeida   Roberto                             Caso Você Queira Saber   \n",
      "...          ...       ...                                                ...   \n",
      "2235  Zimmermann      Fynn                                    Nothin' To Lose   \n",
      "2236  Zimmermann      Fynn                         Since I've Been Loving You   \n",
      "2237  Zimmermann      Fynn                                Going To California   \n",
      "2238  Zimmermann      Fynn                                 We're Gonna Groove   \n",
      "2239  Zimmermann      Fynn                                         Ozone Baby   \n",
      "\n",
      "                             Title  \n",
      "0              Use Your Illusion I  \n",
      "1          In Through The Out Door  \n",
      "2          In Through The Out Door  \n",
      "3                            Minas  \n",
      "4                            Minas  \n",
      "...                            ...  \n",
      "2235              Unplugged [Live]  \n",
      "2236  BBC Sessions [Disc 2] [Live]  \n",
      "2237  BBC Sessions [Disc 2] [Live]  \n",
      "2238                          Coda  \n",
      "2239                          Coda  \n",
      "\n",
      "[2240 rows x 4 columns]\n"
     ]
    }
   ],
   "source": [
    "#defining SQL query to retrieve the desired information\n",
    "query = '''SELECT customer.Lastname, customer.Firstname, track.Name, album.Title FROM customer \n",
    "        INNER JOIN invoice ON customer.CustomerId = invoice.CustomerId \n",
    "        INNER JOIN invoiceline ON invoice.InvoiceId = invoiceline.InvoiceId \n",
    "        INNER JOIN track ON invoiceline.TrackId = track.TrackId \n",
    "        INNER JOIN album ON track.AlbumId = album.AlbumId \n",
    "        ORDER BY customer.Lastname, customer.Firstname;'''\n",
    "\n",
    "\n",
    "#using pandas to read the results of the SQL query into a DataFrame\n",
    "df = pd.read_sql(query, conn)\n",
    "\n",
    "#sorting the DataFrame by Customer LastName, then Customer FirstName\n",
    "df.sort_values(by=['LastName', 'FirstName'], inplace=True)\n",
    "\n",
    "print(df)"
   ]
  },
  {
   "cell_type": "code",
   "execution_count": null,
   "id": "4c43f323",
   "metadata": {},
   "outputs": [],
   "source": []
  }
 ],
 "metadata": {
  "kernelspec": {
   "display_name": "Python 3",
   "language": "python",
   "name": "python3"
  },
  "language_info": {
   "codemirror_mode": {
    "name": "ipython",
    "version": 3
   },
   "file_extension": ".py",
   "mimetype": "text/x-python",
   "name": "python",
   "nbconvert_exporter": "python",
   "pygments_lexer": "ipython3",
   "version": "3.8.10"
  }
 },
 "nbformat": 4,
 "nbformat_minor": 5
}
